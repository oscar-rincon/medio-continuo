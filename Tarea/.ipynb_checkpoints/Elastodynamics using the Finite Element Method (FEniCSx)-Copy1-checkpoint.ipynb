{
 "cells": [
  {
   "cell_type": "markdown",
   "id": "b84cd5b0",
   "metadata": {},
   "source": [
    "# Elastodynamics using the Finite Element Method (FEniCSx)\n",
    "\n",
    "\n",
    "## Problem statement\n",
    "\n",
    "\n",
    "The one-dimensional elastic wave equation is given by:\n",
    "\n",
    "$$\n",
    "\\rho \\frac{\\partial^2 u}{\\partial t^2} = \\frac{\\partial}{\\partial x} \\mu \\frac{\\partial u}{\\partial x} + f\n",
    "$$\n",
    "\n",
    "\n",
    "The corresponding weak form is:\n",
    "\n",
    "$$\n",
    "\\int_{D} \\rho  \\frac{\\partial^{2} \\overline{u}}{\\partial t^{2}} \\varphi_{j} dx + \\int_{D} \\mu \\frac{\\partial \\overline{u}}{\\partial x} \\varphi_{j} dx = \\int_{D} f \\varphi_{j} dx \n",
    "$$\n",
    "\n",
    "which can be expressed in matrix form as:\n",
    "\n",
    "$$\n",
    "\\mathbf{M}^{T} \\frac{\\partial^{2}}{\\partial t^{2}} \\mathbf{u}  + \\mathbf{K}^{T} \\mathbf{u}  = \\mathbf{f}\n",
    "$$\n",
    "\n",
    "where $\\mathbf{M}$ is the mass matrix, $\\mathbf{K}$ is the stiffness matrix, $\\mathbf{f}$ the source vector and $\\mathbf{u}$ the displacements vector. Considering the approximation:\n",
    "\n",
    "$$\n",
    "\\frac{\\partial^{2}}{\\partial t^{2}} \\mathbf{u} \\approx \\frac{u(t+dt)-2u(t)+u(t-dt)}{dt^{2}}\n",
    "$$\n",
    "\n",
    "we get that:\n",
    "\n",
    "$$\n",
    "\\mathbf{u}(t+dt) = dt^{2} \\left( \\mathbf{M}^{T} \\right)^{-1} \\left[ \\mathbf{f} - \\mathbf{K}^{T} \\mathbf{u} \\right] + 2 \\mathbf{u}(t) + \\mathbf{u}(t + dt) \n",
    "$$\n",
    "\n",
    "\n",
    "## Import required libraries"
   ]
  },
  {
   "cell_type": "code",
   "execution_count": 4,
   "id": "27010e8a",
   "metadata": {},
   "outputs": [],
   "source": [
    "from mpi4py import MPI\n",
    "from dolfinx import mesh\n",
    "domain = mesh.create_unit_square(MPI.COMM_WORLD, 8, 8, mesh.CellType.quadrilateral)"
   ]
  },
  {
   "cell_type": "markdown",
   "id": "211295c5",
   "metadata": {},
   "source": [
    "## Functions"
   ]
  }
 ],
 "metadata": {
  "kernelspec": {
   "display_name": "Python 3 (ipykernel)",
   "language": "python",
   "name": "python3"
  },
  "language_info": {
   "codemirror_mode": {
    "name": "ipython",
    "version": 3
   },
   "file_extension": ".py",
   "mimetype": "text/x-python",
   "name": "python",
   "nbconvert_exporter": "python",
   "pygments_lexer": "ipython3",
   "version": "3.12.2"
  },
  "toc": {
   "base_numbering": 1,
   "nav_menu": {},
   "number_sections": true,
   "sideBar": true,
   "skip_h1_title": false,
   "title_cell": "Table of Contents",
   "title_sidebar": "Contents",
   "toc_cell": false,
   "toc_position": {},
   "toc_section_display": true,
   "toc_window_display": false
  }
 },
 "nbformat": 4,
 "nbformat_minor": 5
}
