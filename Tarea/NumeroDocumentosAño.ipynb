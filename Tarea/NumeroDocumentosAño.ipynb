{
 "cells": [
  {
   "cell_type": "code",
   "execution_count": 26,
   "id": "816dfe38-2029-4c0f-844a-408fdfc9e8c9",
   "metadata": {},
   "outputs": [
    {
     "data": {
      "image/png": "[encoded data removed]",
      "text/plain": [
       "<Figure size 300x250 with 1 Axes>"
      ]
     },
     "metadata": {},
     "output_type": "display_data"
    }
   ],
   "source": [
    "%matplotlib inline\n",
    "import numpy as np\n",
    "import matplotlib.pyplot as plt \n",
    "from subprocess import call\n",
    "import matplotlib.cm as cm\n",
    "from matplotlib import rc\n",
    "import matplotlib as mpl\n",
    "import seaborn as sns \n",
    "from matplotlib.colors import ListedColormap\n",
    "from ipywidgets import widgets as wgt\n",
    "from matplotlib.ticker import MultipleLocator\n",
    "\n",
    "from ipywidgets import interact, widgets, FloatSlider, FloatText, fixed\n",
    "from IPython.display import display, clear_output\n",
    "\n",
    "from scipy.optimize import minimize\n",
    "mpl.rcParams.update(\n",
    "    {\n",
    "        'figure.constrained_layout.use': True,\n",
    "        'interactive': False,\n",
    "        \"text.usetex\": False,  # Use mathtext, not LaTeX\n",
    "        \"font.family\": \"cmr10\",  # Use the Computer modern font\n",
    "        \"mathtext.fontset\": \"cm\",\n",
    "        \"axes.formatter.use_mathtext\": True,\n",
    "        \"axes.unicode_minus\": False,\n",
    "    }\n",
    ")\n",
    "\n",
    "data = np.array([[2023, 4996],\n",
    "                 [2022, 4467],\n",
    "                 [2021, 3422],\n",
    "                 [2020, 2457],\n",
    "                 [2019, 1870],\n",
    "                 [2018, 1211],\n",
    "                 [2017, 755],\n",
    "                 [2016, 534],\n",
    "                 [2015, 451],\n",
    "                 [2014, 451],\n",
    "                 [2013, 430]])\n",
    "\n",
    "# Separar los años y los valores en columnas separadas\n",
    "years = data[:, 0]\n",
    "values = data[:, 1]\n",
    "\n",
    "# Crear el gráfico de barras\n",
    "plt.figure(figsize=(3,2.5))\n",
    "ax = plt.gca()\n",
    "plt.step(years, values, color='gray', where='mid', linewidth=2)  # Cambiar a línea escalonada en gris\n",
    "plt.xlabel('Year')\n",
    "plt.ylabel('Documents')\n",
    "plt.xticks(np.arange(2013, 2024, 2), fontsize=10)  # Increase font size\n",
    "plt.yticks(np.arange(0, 6500, 1000), fontsize=10)  # Increase font size\n",
    "plt.xlim([2013, 2024])  # Increase font size\n",
    "#plt.grid(True)\n",
    "ax.xaxis.set_minor_locator(MultipleLocator(1))\n",
    "ax.yaxis.set_minor_locator(MultipleLocator(500))\n",
    "sns.despine()\n",
    "plt.savefig(\"n_documents.pdf\", format=\"pdf\", dpi=300)\n",
    "plt.show()"
   ]
  },
  {
   "cell_type": "code",
   "execution_count": null,
   "id": "73e4a4d9-55d7-448c-beeb-320d318c5ee0",
   "metadata": {},
   "outputs": [],
   "source": []
  }
 ],
 "metadata": {
  "kernelspec": {
   "display_name": "Python 3 (ipykernel)",
   "language": "python",
   "name": "python3"
  },
  "language_info": {
   "codemirror_mode": {
    "name": "ipython",
    "version": 3
   },
   "file_extension": ".py",
   "mimetype": "text/x-python",
   "name": "python",
   "nbconvert_exporter": "python",
   "pygments_lexer": "ipython3",
   "version": "3.12.1"
  }
 },
 "nbformat": 4,
 "nbformat_minor": 5
}
